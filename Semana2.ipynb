{
  "nbformat": 4,
  "nbformat_minor": 0,
  "metadata": {
    "colab": {
      "name": "Semana2.ipynb",
      "provenance": [],
      "collapsed_sections": [],
      "authorship_tag": "ABX9TyMp/JOLK+kj6jQujRhR0hLk"
    },
    "kernelspec": {
      "name": "python3",
      "display_name": "Python 3"
    },
    "language_info": {
      "name": "python"
    }
  },
  "cells": [
    {
      "cell_type": "markdown",
      "metadata": {
        "id": "XhDOFonq-SYR"
      },
      "source": [
        ""
      ]
    },
    {
      "cell_type": "markdown",
      "metadata": {
        "id": "58MNSZ8SBH5k"
      },
      "source": [
        "#Temario\n",
        "1. Colab-Markdown\n",
        "2. Compilación de c++ desde terminal\n",
        "3. Templates\n",
        "4. Recursividad"
      ]
    },
    {
      "cell_type": "code",
      "metadata": {
        "colab": {
          "base_uri": "https://localhost:8080/"
        },
        "id": "NpagqlC27f35",
        "outputId": "d3ffa67d-9b7c-4f94-e4b2-8157aadbd0cc"
      },
      "source": [
        "%%writefile programa1.cpp\n",
        "#include <iostream>\n",
        "using namespace std;\n",
        "int main(){\n",
        "    cout<<\"Introduccion a Colab\";\n",
        "    return 0;\n",
        "}\n"
      ],
      "execution_count": 9,
      "outputs": [
        {
          "output_type": "stream",
          "text": [
            "Overwriting programa1.cpp\n"
          ],
          "name": "stdout"
        }
      ]
    },
    {
      "cell_type": "code",
      "metadata": {
        "id": "ojMvM_eQ_hDk"
      },
      "source": [
        "# compilando el codigo \n",
        "!g++ programa1.cpp"
      ],
      "execution_count": 10,
      "outputs": []
    },
    {
      "cell_type": "code",
      "metadata": {
        "colab": {
          "base_uri": "https://localhost:8080/"
        },
        "id": "QS3MQAHhAMfS",
        "outputId": "0ba07981-22f7-4da1-c34d-8539c54239f8"
      },
      "source": [
        "#ejecutar el binario\n",
        "!./a.out"
      ],
      "execution_count": 12,
      "outputs": [
        {
          "output_type": "stream",
          "text": [
            "Introduccion a Colab"
          ],
          "name": "stdout"
        }
      ]
    },
    {
      "cell_type": "code",
      "metadata": {
        "colab": {
          "base_uri": "https://localhost:8080/"
        },
        "id": "jjPTXjiIAkM2",
        "outputId": "7ece4ff0-26ee-4cdd-edc8-d1dcbf20c038"
      },
      "source": [
        "#en una sola linea\n",
        "!g++ programa1.cpp && ./a.out"
      ],
      "execution_count": 13,
      "outputs": [
        {
          "output_type": "stream",
          "text": [
            "Introduccion a Colab"
          ],
          "name": "stdout"
        }
      ]
    },
    {
      "cell_type": "code",
      "metadata": {
        "colab": {
          "base_uri": "https://localhost:8080/"
        },
        "id": "62oHil9zAtZu",
        "outputId": "8ebd261d-2604-4a82-e003-3cb673c5c55a"
      },
      "source": [
        "#renombrando la salida\n",
        "!g++ programa1.cpp -o upc.exe && ./upc.exe"
      ],
      "execution_count": 14,
      "outputs": [
        {
          "output_type": "stream",
          "text": [
            "Introduccion a Colab"
          ],
          "name": "stdout"
        }
      ]
    },
    {
      "cell_type": "code",
      "metadata": {
        "colab": {
          "base_uri": "https://localhost:8080/"
        },
        "id": "89CKk-uSB14O",
        "outputId": "819be6f1-cedd-4be0-ece0-61e3a5c4d711"
      },
      "source": [
        "#renombrando la salida y seleccionando el compilador\n",
        "!g++ -std=c++11 programa1.cpp -o upc.exe && ./upc.exe"
      ],
      "execution_count": 15,
      "outputs": [
        {
          "output_type": "stream",
          "text": [
            "Introduccion a Colab"
          ],
          "name": "stdout"
        }
      ]
    },
    {
      "cell_type": "markdown",
      "metadata": {
        "id": "U6I8GDkdCNxT"
      },
      "source": [
        "##Templates"
      ]
    },
    {
      "cell_type": "code",
      "metadata": {
        "colab": {
          "base_uri": "https://localhost:8080/"
        },
        "id": "P6Kq3SkmCSIK",
        "outputId": "005daca6-35ed-4d24-86a2-a105341c9d1e"
      },
      "source": [
        "%%writefile programa2.cpp\n",
        "#include <iostream>\n",
        "using std::cout;\n",
        "typedef unsigned long long ull;\n",
        "typedef long long ll;\n",
        "class NumeroP{\n",
        "  ull e;\n",
        "  ull d;\n",
        "  public:  \n",
        "  NumeroP(ull e=0, ull d=0):e(e),d(d){ }\n",
        "  ull getE(){return e;}\n",
        "  void setE(ull e){this->e=e;}\n",
        "  ull getD(){return d;}\n",
        "  void setD(ull d){this->d=d;}\n",
        "  void add(NumeroP n){\n",
        "      e+=n.getE();\n",
        "      d+=n.getD();\n",
        "  }\n",
        "  void print(){  cout<<e<<\"\\t\"<<d<<\"\\n\";  }\n",
        "};\n",
        "class NumeroN{\n",
        "  ll e;\n",
        "  ll d;\n",
        "  public:  \n",
        "  NumeroN(ull e=0, ull d=0):e(e),d(d){ }\n",
        "  ull getE(){return e;}\n",
        "  void setE(ull e){this->e=e;}\n",
        "  ull getD(){return d;}\n",
        "  void setD(ull d){this->d=d;}\n",
        "  void add(NumeroN n){\n",
        "      e+=n.getE();\n",
        "      d+=n.getD();\n",
        "  }\n",
        "  void print(){  cout<<e<<\"\\t\"<<d<<\"\\n\";  }\n",
        "};\n",
        "int main(){\n",
        "  NumeroP n1;\n",
        "  NumeroP n2(10);\n",
        "  NumeroP n3(10,20);\n",
        "  NumeroN nn1;\n",
        "  NumeroN nn2(10);\n",
        "  NumeroN nn3(10,20);\n",
        "  n1.print();\n",
        "  n2.print();\n",
        "  n3.print();\n",
        "  return 0;\n",
        "}"
      ],
      "execution_count": 16,
      "outputs": [
        {
          "output_type": "stream",
          "text": [
            "Writing programa2.cpp\n"
          ],
          "name": "stdout"
        }
      ]
    },
    {
      "cell_type": "code",
      "metadata": {
        "colab": {
          "base_uri": "https://localhost:8080/"
        },
        "id": "pMBAK5n0H5eO",
        "outputId": "91f30e54-7b07-4547-ca6f-938a9a6d3a0d"
      },
      "source": [
        "!g++ -std=c++11 programa2.cpp -o upc.exe && ./upc.exe"
      ],
      "execution_count": 18,
      "outputs": [
        {
          "output_type": "stream",
          "text": [
            "0\t0\n",
            "10\t0\n",
            "10\t20\n"
          ],
          "name": "stdout"
        }
      ]
    },
    {
      "cell_type": "code",
      "metadata": {
        "colab": {
          "base_uri": "https://localhost:8080/"
        },
        "id": "v1U_AfFMIMhX",
        "outputId": "75adadd6-3797-403f-a96e-aef5a600c26f"
      },
      "source": [
        "%%writefile programa2.cpp\n",
        "#include <iostream>\n",
        "using std::cout;\n",
        "typedef unsigned long long ull;\n",
        "typedef long long ll;\n",
        "template <class T>\n",
        "class Numero{\n",
        "  T e;\n",
        "  T d;\n",
        "  public:  \n",
        "  Numero(T e, T d):e(e),d(d){ }\n",
        "  T getE(){return e;}\n",
        "  void setE(T e){this->e=e;}\n",
        "  T getD(){return d;}\n",
        "  void setD(T d){this->d=d;}\n",
        "  void add(Numero n){\n",
        "      e+=n.getE();\n",
        "      d+=n.getD();\n",
        "  }\n",
        "  void print(){  cout<<e<<\"\\t\"<<d<<\"\\n\";  }\n",
        "};\n",
        "\n",
        "int main(){\n",
        "  Numero<ull> n1(10,20); \n",
        "  Numero<ll> n2(-10,-20); \n",
        "  Numero<int> n3(1,2); \n",
        "  Numero<double> n4(10.23,20.56); \n",
        "  Numero<short> n5(10,20); \n",
        "  Numero<float> n6(10.8,20.9); \n",
        "  n1.print();  \n",
        "  return 0;\n",
        "}"
      ],
      "execution_count": 19,
      "outputs": [
        {
          "output_type": "stream",
          "text": [
            "Overwriting programa2.cpp\n"
          ],
          "name": "stdout"
        }
      ]
    },
    {
      "cell_type": "code",
      "metadata": {
        "colab": {
          "base_uri": "https://localhost:8080/"
        },
        "id": "2rJYyW-XTDKD",
        "outputId": "299cc7b4-7577-4c87-c4a8-c8dcc7e697fd"
      },
      "source": [
        "!g++ -std=c++1y programa2.cpp -o upc.exe && ./upc.exe"
      ],
      "execution_count": 20,
      "outputs": [
        {
          "output_type": "stream",
          "text": [
            "10\t20\n"
          ],
          "name": "stdout"
        }
      ]
    },
    {
      "cell_type": "code",
      "metadata": {
        "colab": {
          "base_uri": "https://localhost:8080/"
        },
        "id": "rcw1zjDgTDvM",
        "outputId": "aa4bc1ce-eb5a-424c-fcca-245aea2c3e91"
      },
      "source": [
        "%%writefile templates.cpp\n",
        "#include <iostream>\n",
        "#include <string>\n",
        "using std::string;\n",
        "struct Enemy{\n",
        "    string name;\n",
        "    unsigned short points;\n",
        "\n",
        "    Enemy(string name=\" \",unsigned short points=0):name(name),points(points){}\n",
        "};\n",
        "class Weapon{    \n",
        "    string model;\n",
        "    public:  \n",
        "    Weapon(string model=\" \"):model(model){  }  \n",
        "};\n",
        "class Leader{\n",
        "    string name;\n",
        "    public:  \n",
        "    Leader(){}\n",
        "};\n",
        "\n",
        "template <class T>\n",
        "class Array{\n",
        "  T* arr;\n",
        "  unsigned short i;\n",
        "  public:\n",
        "  Array(){\n",
        "      arr=new T[10];\n",
        "      i=0;\n",
        "  }\n",
        "  void insert(T t){\n",
        "      if(i<10){\n",
        "        arr[i]=t;\n",
        "        ++i;    \n",
        "      }      \n",
        "  }\n",
        "};\n",
        "int main(){\n",
        "    Array<Enemy> enemigos;\n",
        "    Array<Weapon> armas;\n",
        "    Array<Leader> personajes;\n",
        "    for(size_t i=0;i<10;++i){        \n",
        "        enemigos.insert(Enemy(\"xyz\",i));\n",
        "        armas.insert(Weapon(\"mno\"));\n",
        "        personajes.insert(Leader());\n",
        "\n",
        "    }\n",
        "}"
      ],
      "execution_count": 21,
      "outputs": [
        {
          "output_type": "stream",
          "text": [
            "Writing templates.cpp\n"
          ],
          "name": "stdout"
        }
      ]
    },
    {
      "cell_type": "code",
      "metadata": {
        "id": "3EE3hKryTHrQ"
      },
      "source": [
        "!g++ -std=c++1y templates.cpp -o upc.exe && ./upc.exe"
      ],
      "execution_count": 22,
      "outputs": []
    },
    {
      "cell_type": "code",
      "metadata": {
        "id": "e2tn0myQTNHl"
      },
      "source": [
        ""
      ],
      "execution_count": null,
      "outputs": []
    }
  ]
}